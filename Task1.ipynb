{
 "cells": [
  {
   "cell_type": "code",
   "execution_count": 1,
   "id": "4fa63bd4",
   "metadata": {},
   "outputs": [
    {
     "name": "stdout",
     "output_type": "stream",
     "text": [
      "Requirement already satisfied: openai in c:\\users\\sneha\\anaconda3\\lib\\site-packages (0.27.8)\n",
      "Requirement already satisfied: tqdm in c:\\users\\sneha\\anaconda3\\lib\\site-packages (from openai) (4.59.0)\n",
      "Requirement already satisfied: aiohttp in c:\\users\\sneha\\anaconda3\\lib\\site-packages (from openai) (3.8.4)\n",
      "Requirement already satisfied: requests>=2.20 in c:\\users\\sneha\\anaconda3\\lib\\site-packages (from openai) (2.25.1)\n",
      "Requirement already satisfied: chardet<5,>=3.0.2 in c:\\users\\sneha\\anaconda3\\lib\\site-packages (from requests>=2.20->openai) (4.0.0)\n",
      "Requirement already satisfied: certifi>=2017.4.17 in c:\\users\\sneha\\anaconda3\\lib\\site-packages (from requests>=2.20->openai) (2020.12.5)\n",
      "Requirement already satisfied: idna<3,>=2.5 in c:\\users\\sneha\\anaconda3\\lib\\site-packages (from requests>=2.20->openai) (2.10)\n",
      "Requirement already satisfied: urllib3<1.27,>=1.21.1 in c:\\users\\sneha\\anaconda3\\lib\\site-packages (from requests>=2.20->openai) (1.26.4)\n",
      "Requirement already satisfied: aiosignal>=1.1.2 in c:\\users\\sneha\\anaconda3\\lib\\site-packages (from aiohttp->openai) (1.3.1)\n",
      "Requirement already satisfied: multidict<7.0,>=4.5 in c:\\users\\sneha\\anaconda3\\lib\\site-packages (from aiohttp->openai) (6.0.4)\n",
      "Requirement already satisfied: async-timeout<5.0,>=4.0.0a3 in c:\\users\\sneha\\anaconda3\\lib\\site-packages (from aiohttp->openai) (4.0.2)\n",
      "Requirement already satisfied: yarl<2.0,>=1.0 in c:\\users\\sneha\\anaconda3\\lib\\site-packages (from aiohttp->openai) (1.9.2)\n",
      "Requirement already satisfied: attrs>=17.3.0 in c:\\users\\sneha\\anaconda3\\lib\\site-packages (from aiohttp->openai) (20.3.0)\n",
      "Requirement already satisfied: frozenlist>=1.1.1 in c:\\users\\sneha\\anaconda3\\lib\\site-packages (from aiohttp->openai) (1.3.3)\n",
      "Requirement already satisfied: charset-normalizer<4.0,>=2.0 in c:\\users\\sneha\\anaconda3\\lib\\site-packages (from aiohttp->openai) (3.1.0)\n",
      "Note: you may need to restart the kernel to use updated packages.\n"
     ]
    }
   ],
   "source": [
    "pip install openai"
   ]
  },
  {
   "cell_type": "code",
   "execution_count": 1,
   "id": "878278bd",
   "metadata": {},
   "outputs": [],
   "source": [
    "import os\n",
    "import openai\n",
    "from IPython.core.display import display, HTML\n",
    "\n",
    "openai.api_key = \"api_key\""
   ]
  },
  {
   "cell_type": "code",
   "execution_count": 2,
   "id": "29ad5a42",
   "metadata": {},
   "outputs": [
    {
     "data": {
      "text/html": [
       "<!DOCTYPE html>\n",
       "<html>\n",
       "<head>\n",
       "<style>\n",
       "table {\n",
       "  border-collapse: collapse;\n",
       "  width: 100%;\n",
       "}\n",
       "\n",
       "th, td {\n",
       "  text-align: left;\n",
       "  padding: 8px;\n",
       "}\n",
       "\n",
       "th {\n",
       "  background-color: #A569BD;\n",
       "  color: white;\n",
       "  font-family: Serif;\n",
       "  text-transform: uppercase;\n",
       "}\n",
       "\n",
       "tr:nth-child(even) {\n",
       "  background-color: #F5EEF8;\n",
       "}\n",
       "\n",
       "td {\n",
       "  font-family: monospace;\n",
       "}\n",
       "\n",
       ".vertical-separator {\n",
       "  border-left: 1px solid black;\n",
       "}\n",
       "</style>\n",
       "</head>\n",
       "<body>\n",
       "\n",
       "<table>\n",
       "  <tr>\n",
       "    <th>Highway</th>\n",
       "    <th class=\"vertical-separator\">Length</th>\n",
       "    <th class=\"vertical-separator\">Route</th>\n",
       "  </tr>\n",
       "  <tr>\n",
       "    <td>Interstate 90</td>\n",
       "    <td class=\"vertical-separator\">3,020.54 miles</td>\n",
       "    <td class=\"vertical-separator\">Seattle, Washington to Boston, Massachusetts</td>\n",
       "  </tr>\n",
       "  <tr>\n",
       "    <td>US Route 20</td>\n",
       "    <td class=\"vertical-separator\">3,365.09 miles</td>\n",
       "    <td class=\"vertical-separator\">Boston, Massachusetts to Newport, Oregon</td>\n",
       "  </tr>\n",
       "  <tr>\n",
       "    <td>Interstate 80</td>\n",
       "    <td class=\"vertical-separator\">2,899.54 miles</td>\n",
       "    <td class=\"vertical-separator\">San Francisco, California to Teaneck, New Jersey</td>\n",
       "  </tr>\n",
       "  <tr>\n",
       "    <td>US Route 6</td>\n",
       "    <td class=\"vertical-separator\">3,207 miles</td>\n",
       "    <td class=\"vertical-separator\">Provincetown, Massachusetts to Bishop, California</td>\n",
       "  </tr>\n",
       "  <tr>\n",
       "    <td>US Route 30</td>\n",
       "    <td class=\"vertical-separator\">3,073.19 miles</td>\n",
       "    <td class=\"vertical-separator\">Atlantic City, New Jersey to Astoria, Oregon</td>\n",
       "  </tr>\n",
       "</table>\n",
       "\n",
       "</body>\n",
       "</html>"
      ],
      "text/plain": [
       "<IPython.core.display.HTML object>"
      ]
     },
     "metadata": {},
     "output_type": "display_data"
    }
   ],
   "source": [
    "def get_completion(prompt, model=\"gpt-3.5-turbo\"):\n",
    "    \"\"\"This function calls ChatGPT API with a given prompt\n",
    "    and returns the response back.\"\"\"\n",
    "    messages = [{\"role\": \"user\", \"content\": prompt}]\n",
    "    response = openai.ChatCompletion.create(\n",
    "        model=model,\n",
    "        messages=messages,\n",
    "        temperature=0)\n",
    "    return response.choices[0].message[\"content\"]\n",
    "\n",
    "prompt = \"\"\"List the top 5 longest highways in USA according to their length.\n",
    "Give the output in a HTML. It should meet the following formatting conditions:- \n",
    "1. The output should be in tabular format.\n",
    "2. There must be black color vertical separator between each of the column of the table.\n",
    "3. The columns must have the name, its length and its route.\n",
    "4. The color of the column heading should be HEX #A569BD and other rows must be  HEX #F5EEF8.\n",
    "5. The headings must be bold, uppercase and font Serif and other columns font monospace.\"\"\"\n",
    "\n",
    "response = get_completion(prompt)\n",
    "display(HTML(response))"
   ]
  },
  {
   "cell_type": "code",
   "execution_count": null,
   "id": "52db2a73",
   "metadata": {},
   "outputs": [],
   "source": []
  }
 ],
 "metadata": {
  "kernelspec": {
   "display_name": "Python 3",
   "language": "python",
   "name": "python3"
  },
  "language_info": {
   "codemirror_mode": {
    "name": "ipython",
    "version": 3
   },
   "file_extension": ".py",
   "mimetype": "text/x-python",
   "name": "python",
   "nbconvert_exporter": "python",
   "pygments_lexer": "ipython3",
   "version": "3.8.8"
  }
 },
 "nbformat": 4,
 "nbformat_minor": 5
}
